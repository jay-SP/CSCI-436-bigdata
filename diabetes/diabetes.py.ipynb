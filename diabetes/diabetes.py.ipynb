{
 "cells": [
  {
   "cell_type": "code",
   "execution_count": 60,
   "id": "9fff85ec",
   "metadata": {},
   "outputs": [],
   "source": [
    "import numpy as np\n",
    "import pandas as pd\n",
    "import matplotlib.pyplot as plt\n",
    "\n"
   ]
  },
  {
   "cell_type": "code",
   "execution_count": 61,
   "id": "a60a6d38",
   "metadata": {},
   "outputs": [
    {
     "data": {
      "text/html": [
       "<div>\n",
       "<style scoped>\n",
       "    .dataframe tbody tr th:only-of-type {\n",
       "        vertical-align: middle;\n",
       "    }\n",
       "\n",
       "    .dataframe tbody tr th {\n",
       "        vertical-align: top;\n",
       "    }\n",
       "\n",
       "    .dataframe thead th {\n",
       "        text-align: right;\n",
       "    }\n",
       "</style>\n",
       "<table border=\"1\" class=\"dataframe\">\n",
       "  <thead>\n",
       "    <tr style=\"text-align: right;\">\n",
       "      <th></th>\n",
       "      <th>Pregnancies</th>\n",
       "      <th>Glucose</th>\n",
       "      <th>BloodPressure</th>\n",
       "      <th>SkinThickness</th>\n",
       "      <th>Insulin</th>\n",
       "      <th>BMI</th>\n",
       "      <th>DiabetesPedigreeFunction</th>\n",
       "      <th>Age</th>\n",
       "      <th>Outcome</th>\n",
       "    </tr>\n",
       "  </thead>\n",
       "  <tbody>\n",
       "    <tr>\n",
       "      <th>0</th>\n",
       "      <td>6</td>\n",
       "      <td>148</td>\n",
       "      <td>72</td>\n",
       "      <td>35</td>\n",
       "      <td>0</td>\n",
       "      <td>33.6</td>\n",
       "      <td>0.627</td>\n",
       "      <td>50</td>\n",
       "      <td>1</td>\n",
       "    </tr>\n",
       "    <tr>\n",
       "      <th>1</th>\n",
       "      <td>1</td>\n",
       "      <td>85</td>\n",
       "      <td>66</td>\n",
       "      <td>29</td>\n",
       "      <td>0</td>\n",
       "      <td>26.6</td>\n",
       "      <td>0.351</td>\n",
       "      <td>31</td>\n",
       "      <td>0</td>\n",
       "    </tr>\n",
       "    <tr>\n",
       "      <th>2</th>\n",
       "      <td>8</td>\n",
       "      <td>183</td>\n",
       "      <td>64</td>\n",
       "      <td>0</td>\n",
       "      <td>0</td>\n",
       "      <td>23.3</td>\n",
       "      <td>0.672</td>\n",
       "      <td>32</td>\n",
       "      <td>1</td>\n",
       "    </tr>\n",
       "    <tr>\n",
       "      <th>3</th>\n",
       "      <td>1</td>\n",
       "      <td>89</td>\n",
       "      <td>66</td>\n",
       "      <td>23</td>\n",
       "      <td>94</td>\n",
       "      <td>28.1</td>\n",
       "      <td>0.167</td>\n",
       "      <td>21</td>\n",
       "      <td>0</td>\n",
       "    </tr>\n",
       "    <tr>\n",
       "      <th>4</th>\n",
       "      <td>0</td>\n",
       "      <td>137</td>\n",
       "      <td>40</td>\n",
       "      <td>35</td>\n",
       "      <td>168</td>\n",
       "      <td>43.1</td>\n",
       "      <td>2.288</td>\n",
       "      <td>33</td>\n",
       "      <td>1</td>\n",
       "    </tr>\n",
       "  </tbody>\n",
       "</table>\n",
       "</div>"
      ],
      "text/plain": [
       "   Pregnancies  Glucose  BloodPressure  SkinThickness  Insulin   BMI  \\\n",
       "0            6      148             72             35        0  33.6   \n",
       "1            1       85             66             29        0  26.6   \n",
       "2            8      183             64              0        0  23.3   \n",
       "3            1       89             66             23       94  28.1   \n",
       "4            0      137             40             35      168  43.1   \n",
       "\n",
       "   DiabetesPedigreeFunction  Age  Outcome  \n",
       "0                     0.627   50        1  \n",
       "1                     0.351   31        0  \n",
       "2                     0.672   32        1  \n",
       "3                     0.167   21        0  \n",
       "4                     2.288   33        1  "
      ]
     },
     "execution_count": 61,
     "metadata": {},
     "output_type": "execute_result"
    }
   ],
   "source": [
    "data = pd.read_csv(\"/Users/jp/python/diabetes/diabetes.csv\")\n",
    "data.head()"
   ]
  },
  {
   "cell_type": "code",
   "execution_count": 62,
   "id": "ad2ca740",
   "metadata": {},
   "outputs": [
    {
     "name": "stdout",
     "output_type": "stream",
     "text": [
      "<class 'pandas.core.frame.DataFrame'>\n",
      "RangeIndex: 768 entries, 0 to 767\n",
      "Data columns (total 9 columns):\n",
      " #   Column                    Non-Null Count  Dtype  \n",
      "---  ------                    --------------  -----  \n",
      " 0   Pregnancies               768 non-null    int64  \n",
      " 1   Glucose                   768 non-null    int64  \n",
      " 2   BloodPressure             768 non-null    int64  \n",
      " 3   SkinThickness             768 non-null    int64  \n",
      " 4   Insulin                   768 non-null    int64  \n",
      " 5   BMI                       768 non-null    float64\n",
      " 6   DiabetesPedigreeFunction  768 non-null    float64\n",
      " 7   Age                       768 non-null    int64  \n",
      " 8   Outcome                   768 non-null    int64  \n",
      "dtypes: float64(2), int64(7)\n",
      "memory usage: 54.1 KB\n"
     ]
    }
   ],
   "source": [
    "data.info()\n",
    "#checking for nulls"
   ]
  },
  {
   "cell_type": "code",
   "execution_count": 63,
   "id": "39bd6bd6",
   "metadata": {},
   "outputs": [
    {
     "name": "stdout",
     "output_type": "stream",
     "text": [
      "Pregnancies :\t 111\n",
      "Glucose :\t 5\n",
      "BloodPressure :\t 35\n",
      "SkinThickness :\t 227\n",
      "Insulin :\t 374\n",
      "BMI :\t 11\n",
      "DiabetesPedigreeFunction :\t 0\n",
      "Age :\t 0\n",
      "Outcome :\t 500\n"
     ]
    }
   ],
   "source": [
    "#no nulls records are present, as the no. of records are same.\n",
    "#upon next we check for null values in featues\n",
    "for i in data.columns:\n",
    "    print(i, \":\\t\", len(data[data[i] == 0].index))"
   ]
  },
  {
   "cell_type": "code",
   "execution_count": 64,
   "id": "d208c47c",
   "metadata": {},
   "outputs": [],
   "source": [
    "data['Glucose'].replace(to_replace=0, value = data['Glucose'].mean(), inplace = True)\n",
    "data['BloodPressure'].replace(to_replace=0, value = data['BloodPressure'].mean(), inplace=True)\n",
    "data['SkinThickness'].replace(to_replace=0, value = data['SkinThickness'].mean(), inplace=True)\n",
    "data['Insulin'].replace(to_replace=0, value = data['Insulin'].mean(), inplace=True)\n",
    "data['BMI'].replace(to_replace=0, value = data['BMI'].mean(), inplace=True)\n",
    "data['Age'].replace(to_replace=0, value = data['Age'].mean(), inplace=True)\n",
    "\n",
    "\n"
   ]
  },
  {
   "cell_type": "code",
   "execution_count": 65,
   "id": "e25fe4b2",
   "metadata": {},
   "outputs": [
    {
     "data": {
      "text/plain": [
       "Pregnancies                 0\n",
       "Glucose                     0\n",
       "BloodPressure               0\n",
       "SkinThickness               0\n",
       "Insulin                     0\n",
       "BMI                         0\n",
       "DiabetesPedigreeFunction    0\n",
       "Age                         0\n",
       "Outcome                     0\n",
       "dtype: int64"
      ]
     },
     "execution_count": 65,
     "metadata": {},
     "output_type": "execute_result"
    }
   ],
   "source": [
    "data.isnull().sum()"
   ]
  },
  {
   "cell_type": "code",
   "execution_count": 66,
   "id": "ed3316bf",
   "metadata": {},
   "outputs": [
    {
     "name": "stdout",
     "output_type": "stream",
     "text": [
      "(768, 8)\n",
      "(768,)\n"
     ]
    }
   ],
   "source": [
    "'''dividing features and outcome(y)'''\n",
    "\n",
    "X= data.drop('Outcome', axis=1).values\n",
    "y= data['Outcome'].values\n",
    "print(X.shape)\n",
    "print(y.shape)\n"
   ]
  },
  {
   "cell_type": "code",
   "execution_count": 67,
   "id": "e1c13366",
   "metadata": {},
   "outputs": [],
   "source": [
    "import numpy as np\n",
    "from sklearn.model_selection import train_test_split\n",
    "\n",
    "class StandardScaler:\n",
    "    def fit(self, X):\n",
    "        self.mean = np.mean(X, axis=0)\n",
    "        self.std = np.std(X, axis=0)\n",
    "    \n",
    "    def transform(self, X):\n",
    "        scaled_X = (X - self.mean) / self.std\n",
    "        return scaled_X\n",
    "    \n",
    "    def fit_transform(self, X):\n",
    "        self.fit(X)\n",
    "        scaled_X = self.transform(X)\n",
    "        return scaled_X\n",
    "\n",
    "scaler = StandardScaler()\n",
    "X_scaled = scaler.fit_transform(X)\n",
    "\n",
    "\n",
    "X_train, X_test, y_train, y_test = train_test_split(X_scaled, y, test_size=0.2, random_state=42)\n",
    "\n"
   ]
  },
  {
   "cell_type": "code",
   "execution_count": 68,
   "id": "fd747571",
   "metadata": {},
   "outputs": [
    {
     "name": "stdout",
     "output_type": "stream",
     "text": [
      "80% Features Training Data :  (614, 8)\n",
      "20% Features Testing Data :  (154, 8)\n",
      "80% Target Training Data :  (614,)\n",
      "20% Target Testing Data :  (154,)\n"
     ]
    }
   ],
   "source": [
    "print(\"80% Features Training Data : \", X_train.shape)\n",
    "print(\"20% Features Testing Data : \", X_test.shape)\n",
    "print(\"80% Target Training Data : \", y_train.shape)\n",
    "print(\"20% Target Testing Data : \", y_test.shape)"
   ]
  },
  {
   "cell_type": "code",
   "execution_count": 69,
   "id": "8afe082f",
   "metadata": {},
   "outputs": [
    {
     "data": {
      "text/plain": [
       "KNeighborsClassifier(n_neighbors=1)"
      ]
     },
     "execution_count": 69,
     "metadata": {},
     "output_type": "execute_result"
    }
   ],
   "source": [
    "from sklearn.neighbors import KNeighborsClassifier\n",
    "knn = KNeighborsClassifier(n_neighbors=1)\n",
    "knn.fit(X_train, y_train)"
   ]
  },
  {
   "cell_type": "code",
   "execution_count": 70,
   "id": "460ad2ad",
   "metadata": {},
   "outputs": [
    {
     "name": "stdout",
     "output_type": "stream",
     "text": [
      "(614,)\n",
      "(154,)\n"
     ]
    }
   ],
   "source": [
    "y_train_pred_knn = knn.predict(X_train)\n",
    "y_test_pred_knn = knn.predict(X_test)\n",
    "print(y_train_pred_knn.shape)\n",
    "print(y_test_pred_knn.shape)"
   ]
  },
  {
   "cell_type": "code",
   "execution_count": 71,
   "id": "bad1c366",
   "metadata": {
    "scrolled": true
   },
   "outputs": [
    {
     "name": "stdout",
     "output_type": "stream",
     "text": [
      "Cross-Validation Score of 5 folds :  [0.72357724 0.65853659 0.62601626 0.76422764 0.75409836] \n",
      "\n",
      "Average mean Cross-Validation Score 5 folds :  0.7052912168465947\n",
      "std Cross-Validation Score 5 folds :  0.0541489285943024\n"
     ]
    },
    {
     "name": "stderr",
     "output_type": "stream",
     "text": [
      "[Parallel(n_jobs=1)]: Using backend SequentialBackend with 1 concurrent workers.\n",
      "[Parallel(n_jobs=1)]: Done   5 out of   5 | elapsed:    0.0s finished\n"
     ]
    }
   ],
   "source": [
    "from sklearn.model_selection import KFold, cross_val_score\n",
    "\n",
    "folds = KFold(n_splits=5, shuffle=False, random_state=None)\n",
    "CrossValScoreKnn = cross_val_score(estimator=knn, X=X_train, y=y_train, cv=folds, verbose=1)\n",
    "print(\"Cross-Validation Score of 5 folds : \", CrossValScoreKnn, \"\\n\")\n",
    "print(\"Average mean Cross-Validation Score 5 folds : \", np.mean(CrossValScoreKnn))\n",
    "print(\"std Cross-Validation Score 5 folds : \", np.std(CrossValScoreKnn))"
   ]
  },
  {
   "cell_type": "code",
   "execution_count": 72,
   "id": "fcd4c12c",
   "metadata": {},
   "outputs": [
    {
     "name": "stdout",
     "output_type": "stream",
     "text": [
      "Best K value: 13\n",
      "Best Testing Accuracy: 0.7792207792207793\n"
     ]
    }
   ],
   "source": [
    "from sklearn.metrics import accuracy_score\n",
    "\n",
    "best_k = None\n",
    "best_accuracy = 0.0\n",
    "training_accuracies = []  \n",
    "testing_accuracies = []  \n",
    "K_values = np.arange(1,15)\n",
    "for k in K_values:\n",
    "\n",
    "    knn = KNeighborsClassifier(n_neighbors=k)\n",
    "    knn.fit(X_train, y_train)\n",
    "    y_train_pred = knn.predict(X_train)\n",
    "    \n",
    "    # Calculate training accuracy\n",
    "    train_accuracy = accuracy_score(y_train, y_train_pred)\n",
    "    training_accuracies.append(train_accuracy)  # Append training accuracy to the array\n",
    "    \n",
    "    # Make predictions on the testing set\n",
    "    y_test_pred = knn.predict(X_test)\n",
    "    \n",
    "    # Calculate testing accuracy\n",
    "    test_accuracy = accuracy_score(y_test, y_test_pred)\n",
    "    testing_accuracies.append(test_accuracy)  # Append testing accuracy to the array\n",
    "    \n",
    "    # Check if this k value gives a better testing accuracy\n",
    "    if test_accuracy > best_accuracy:\n",
    "        best_accuracy = test_accuracy\n",
    "        best_k = k\n",
    "\n",
    "print(\"Best K value:\", best_k)\n",
    "print(\"Best Testing Accuracy:\", best_accuracy)\n",
    "\n",
    "# Now, 'training_accuracies' array contains training accuracies for each k value\n",
    "# 'testing_accuracies' array contains testing accuracies for each k value\n"
   ]
  },
  {
   "cell_type": "code",
   "execution_count": 73,
   "id": "656efaf3",
   "metadata": {},
   "outputs": [
    {
     "data": {
      "image/png": "[encoded data removed]",
      "text/plain": [
       "<Figure size 432x288 with 1 Axes>"
      ]
     },
     "metadata": {
      "needs_background": "light"
     },
     "output_type": "display_data"
    }
   ],
   "source": [
    "#plotting accuracies\n",
    "\n",
    "plt.plot(neighbors, training_accuracy, label=\"Training Accuracy\")\n",
    "plt.plot(neighbors, testing_accuracy, label=\"Testing Accuracy\")\n",
    "plt.legend(loc=0)\n",
    "plt.xlabel(\"No. of Neighbors\")\n",
    "plt.ylabel(\"Accuracy Score\")\n",
    "plt.title(\"KNN for K=1 to 15 Neighbors\")\n",
    "plt.show()"
   ]
  },
  {
   "cell_type": "code",
   "execution_count": 74,
   "id": "f43a95e3",
   "metadata": {},
   "outputs": [
    {
     "data": {
      "text/plain": [
       "KNeighborsClassifier(n_neighbors=13)"
      ]
     },
     "execution_count": 74,
     "metadata": {},
     "output_type": "execute_result"
    }
   ],
   "source": [
    "tuned_knn = KNeighborsClassifier(n_neighbors=best_k)\n",
    "tuned_knn.fit(X_train, y_train)"
   ]
  },
  {
   "cell_type": "code",
   "execution_count": 75,
   "id": "34736210",
   "metadata": {},
   "outputs": [
    {
     "name": "stdout",
     "output_type": "stream",
     "text": [
      "Cross Validarion Score of 5 folds for K=13 :  [0.7398374  0.7804878  0.7398374  0.75609756 0.76229508] \n",
      "\n",
      "Average Cross Validarion Score for K=13 :  0.7557110489137678 \n",
      "\n",
      "Training KNN Score for K=13 :  0.7980456026058632 \n",
      "\n",
      "Testing KNN Score for K=13 :  0.7792207792207793 \n",
      "\n"
     ]
    },
    {
     "name": "stderr",
     "output_type": "stream",
     "text": [
      "[Parallel(n_jobs=1)]: Using backend SequentialBackend with 1 concurrent workers.\n",
      "[Parallel(n_jobs=1)]: Done   5 out of   5 | elapsed:    0.0s finished\n"
     ]
    }
   ],
   "source": [
    "folds = KFold(n_splits=5, shuffle=False, random_state=None)\n",
    "CrossValScore_knn = cross_val_score(estimator=tuned_knn, X=X_train, y=y_train, cv=folds, verbose=1)\n",
    "print(\"Cross Validarion Score of 5 folds for K=13 : \", CrossValScore_knn, \"\\n\")\n",
    "\n",
    "print(\"Average Cross Validarion Score for K=13 : \", np.mean(CrossValScore_knn), \"\\n\")\n",
    "\n",
    "print(\"Training KNN Score for K=13 : \", tuned_knn.score(X_train, y_train), \"\\n\")\n",
    "\n",
    "print(\"Testing KNN Score for K=13 : \", tuned_knn.score(X_test, y_test), \"\\n\")"
   ]
  },
  {
   "cell_type": "code",
   "execution_count": 76,
   "id": "079896fc",
   "metadata": {},
   "outputs": [],
   "source": [
    "from sklearn.metrics import confusion_matrix\n",
    "conf_matrix = confusion_matrix(y_test, y_test_pred)"
   ]
  },
  {
   "cell_type": "code",
   "execution_count": 77,
   "id": "68a93b5e",
   "metadata": {},
   "outputs": [
    {
     "data": {
      "text/plain": [
       "array([[90,  9],\n",
       "       [25, 30]])"
      ]
     },
     "execution_count": 77,
     "metadata": {},
     "output_type": "execute_result"
    }
   ],
   "source": [
    "conf_matrix"
   ]
  },
  {
   "cell_type": "code",
   "execution_count": 83,
   "id": "203785e3",
   "metadata": {},
   "outputs": [
    {
     "name": "stdout",
     "output_type": "stream",
     "text": [
      "Accuracy: 0.7792207792207793\n"
     ]
    }
   ],
   "source": [
    "#confusion matrix for k = 13\n",
    "\n",
    "# Extract values from the confusion matrix\n",
    "true_negatives = conf_matrix[0, 0]  # wrong pred\n",
    "false_positives = conf_matrix[0, 1] \n",
    "false_negatives = conf_matrix[1, 0]\n",
    "true_positives = conf_matrix[1, 1]\n",
    "\n",
    "# Calculate accuracy\n",
    "accuracy = (true_positives + true_negatives) / (true_positives + true_negatives + false_positives + false_negatives)\n",
    "\n",
    "print(\"Accuracy:\", accuracy)\n",
    "\n",
    "#True negatives (TN) healthy individuals who tested \"Negative\" and are correctly classified as not having the disease.\n",
    "#False positives (FP) healthy individuals who tested \"Positive\" but don't actually have the disease.\n",
    "#False negatives (FN) individuals with the disease who tested \"Negative\" but should have tested \"Positive.\"\n",
    "#True positives (TP) individuals with the disease who tested \"Positive\" and are correctly classified as having the disease."
   ]
  },
  {
   "cell_type": "code",
   "execution_count": 84,
   "id": "eab872fa",
   "metadata": {},
   "outputs": [
    {
     "name": "stdout",
     "output_type": "stream",
     "text": [
      "Mean LOOCV Score: 0.7552083333333334\n",
      "Standard Deviation of LOOCV Scores: 0.4299636107826129\n"
     ]
    }
   ],
   "source": [
    "from sklearn.model_selection import LeaveOneOut\n",
    "knn = KNeighborsClassifier(n_neighbors=best_k)\n",
    "\n",
    "#cross-validator\n",
    "loo = LeaveOneOut()\n",
    "\n",
    "# Perform LOOCV\n",
    "loocv_scores = cross_val_score(knn, X_scaled, y, cv=loo)\n",
    "\n",
    "# Calculate mean and standard deviation of LOOCV scores\n",
    "mean_loocv_score = loocv_scores.mean()\n",
    "std_loocv_score = loocv_scores.std()\n",
    "\n",
    "print(\"Mean LOOCV Score:\", mean_loocv_score)\n",
    "print(\"Standard Deviation of LOOCV Scores:\", std_loocv_score)"
   ]
  },
  {
   "cell_type": "code",
   "execution_count": null,
   "id": "ee7f06e4",
   "metadata": {},
   "outputs": [],
   "source": []
  },
  {
   "cell_type": "code",
   "execution_count": null,
   "id": "3c66c8a0",
   "metadata": {},
   "outputs": [],
   "source": []
  },
  {
   "cell_type": "code",
   "execution_count": null,
   "id": "1310e7b6",
   "metadata": {},
   "outputs": [],
   "source": []
  },
  {
   "cell_type": "code",
   "execution_count": null,
   "id": "6251537c",
   "metadata": {},
   "outputs": [],
   "source": []
  }
 ],
 "metadata": {
  "kernelspec": {
   "display_name": "Python 3 (ipykernel)",
   "language": "python",
   "name": "python3"
  },
  "language_info": {
   "codemirror_mode": {
    "name": "ipython",
    "version": 3
   },
   "file_extension": ".py",
   "mimetype": "text/x-python",
   "name": "python",
   "nbconvert_exporter": "python",
   "pygments_lexer": "ipython3",
   "version": "3.9.12"
  }
 },
 "nbformat": 4,
 "nbformat_minor": 5
}
